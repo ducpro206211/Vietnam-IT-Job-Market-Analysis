{
 "cells": [
  {
   "cell_type": "code",
   "execution_count": 1,
   "metadata": {},
   "outputs": [],
   "source": [
    "import postgresanalytic\n",
    "from postgresanalytic import Postgrespipeline\n"
   ]
  },
  {
   "cell_type": "code",
   "execution_count": 2,
   "metadata": {},
   "outputs": [],
   "source": [
    "db_pipeline = Postgrespipeline(\n",
    "    host='localhost',\n",
    "    port='5432',\n",
    "    username='postgres',\n",
    "    password='mysecretpassword',\n",
    "    database='voz'\n",
    ")\n",
    "\n"
   ]
  },
  {
   "cell_type": "code",
   "execution_count": 6,
   "metadata": {},
   "outputs": [
    {
     "data": {
      "text/plain": [
       "(True, None)"
      ]
     },
     "execution_count": 6,
     "metadata": {},
     "output_type": "execute_result"
    }
   ],
   "source": [
    "create_table_query =  \"\"\"\n",
    "    CREATE TABLE IF NOT EXISTS your_table_name (\n",
    "        id SERIAL PRIMARY KEY,\n",
    "        column1 VARCHAR(255) NOT NULL,\n",
    "        column2 INTEGER\n",
    "        -- thêm các cột khác nếu cần\n",
    "    );\n",
    "    \"\"\"\n",
    "db_pipeline.execute_query(create_table_query)"
   ]
  },
  {
   "cell_type": "code",
   "execution_count": 7,
   "metadata": {},
   "outputs": [
    {
     "name": "stdout",
     "output_type": "stream",
     "text": [
      "[]\n"
     ]
    }
   ],
   "source": [
    "\n",
    "success, result = db_pipeline.execute_query('SELECT * FROM your_table_name')\n",
    "if success:\n",
    "    print(result)\n",
    "else:\n",
    "    print(f'Error: {result}')"
   ]
  },
  {
   "cell_type": "code",
   "execution_count": 6,
   "metadata": {},
   "outputs": [
    {
     "name": "stdout",
     "output_type": "stream",
     "text": [
      "[(1234, datetime.datetime(2022, 7, 31, 20, 23), 'đ', 'hello', 1, 'gaoo'), (1235, datetime.datetime(2022, 7, 31, 20, 23), 'ko có', 'hello tôi là', 1, 'gaoo')]\n"
     ]
    }
   ],
   "source": [
    "success, result = db_pipeline.execute_query('SELECT * FROM vozdata')\n",
    "if success:\n",
    "    print(result)\n",
    "else:\n",
    "    print(f'Error: {result}')"
   ]
  },
  {
   "cell_type": "code",
   "execution_count": 3,
   "metadata": {},
   "outputs": [],
   "source": [
    "create_table_query = \"\"\"\n",
    "        CREATE TABLE IF NOT EXISTS vozdata (\n",
    "            UserID INT,\n",
    "            MessageTime TIMESTAMP,\n",
    "            Quote TEXT,\n",
    "            Text TEXT,\n",
    "            PageId INT,\n",
    "            nameContent VARCHAR(255),\n",
    "            PRIMARY KEY (UserID, MessageTime)\n",
    "        );\n",
    "        \"\"\"\n",
    "success, result = db_pipeline.execute_query(create_table_query)"
   ]
  },
  {
   "cell_type": "code",
   "execution_count": 4,
   "metadata": {},
   "outputs": [],
   "source": [
    "update_data =\"\"\"INSERT INTO vozdata (UserID, MessageTime, Quote, Text, PageId, nameContent)\n",
    "VALUES (1235, '2022-07-31 20:23:00', 'ko có', 'hello tôi là', 1, 'gaoo')\n",
    "ON CONFLICT (UserID) \n",
    "DO UPDATE SET\n",
    "    MessageTime = EXCLUDED.MessageTime,\n",
    "    Quote = EXCLUDED.Quote,\n",
    "    Text = EXCLUDED.Text,\n",
    "    PageId = EXCLUDED.PageId,\n",
    "    nameContent = EXCLUDED.nameContent;\"\"\"\n"
   ]
  },
  {
   "cell_type": "code",
   "execution_count": 38,
   "metadata": {},
   "outputs": [],
   "source": [
    "key_data =\"\"\"ALTER TABLE vozdata ADD CONSTRAINT unique_message_id UNIQUE (UserID);\"\"\""
   ]
  },
  {
   "cell_type": "code",
   "execution_count": 5,
   "metadata": {},
   "outputs": [],
   "source": [
    "success, result = db_pipeline.execute_query(update_data)"
   ]
  },
  {
   "cell_type": "code",
   "execution_count": null,
   "metadata": {},
   "outputs": [],
   "source": []
  },
  {
   "cell_type": "code",
   "execution_count": null,
   "metadata": {},
   "outputs": [],
   "source": []
  }
 ],
 "metadata": {
  "kernelspec": {
   "display_name": "Python 3",
   "language": "python",
   "name": "python3"
  },
  "language_info": {
   "codemirror_mode": {
    "name": "ipython",
    "version": 3
   },
   "file_extension": ".py",
   "mimetype": "text/x-python",
   "name": "python",
   "nbconvert_exporter": "python",
   "pygments_lexer": "ipython3",
   "version": "3.9.13"
  }
 },
 "nbformat": 4,
 "nbformat_minor": 2
}
