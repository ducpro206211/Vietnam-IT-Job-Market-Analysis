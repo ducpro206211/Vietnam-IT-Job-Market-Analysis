{
 "cells": [
  {
   "cell_type": "code",
   "execution_count": 1,
   "metadata": {},
   "outputs": [
    {
     "name": "stdout",
     "output_type": "stream",
     "text": [
      "200\n"
     ]
    }
   ],
   "source": [
    "# take data \n",
    "from urllib.request import Request, urlopen\n",
    "from bs4 import BeautifulSoup\n",
    "\n",
    "url = 'https://voz.vn/t/event-box-cntt-2023-chia-se-kinh-nghiem-phong-van.694369/'\n",
    "headers = {\n",
    "    'User-Agent': 'Mozilla/5.0 (Windows NT 10.0; Win64; x64) AppleWebKit/537.36 (KHTML, like Gecko) Chrome/85.0.4183.83 Safari/537.36'\n",
    "}\n",
    "\n",
    "response = urlopen(Request(url=url, headers=headers))\n",
    "\n",
    "if response.getcode() == 200:\n",
    "    soup = BeautifulSoup(response, 'html.parser')\n",
    "    #DataUserId = \n",
    "    print(response.getcode())\n",
    "    #DataUserName = scrapy.Field()\n",
    "    #ReplyTime = scrapy.Field()\n",
    "    #ReplyText = scrapy.Field()\n",
    "    #QuoteBlockId = scrapy.Field()\n",
    "    #QuoteBlockText = scrapy.Field()\n",
    "    #print(soup.prettify())  # Hiển thị HTML đã lấy được\n",
    "else:\n",
    "    print(f\"Lỗi khi lấy trang: {response.getcode()}\")\n"
   ]
  },
  {
   "cell_type": "code",
   "execution_count": 2,
   "metadata": {},
   "outputs": [
    {
     "name": "stdout",
     "output_type": "stream",
     "text": [
      "{'873787': 'Fire Of Heart', '792463': 'Jarvis2802', '1772182': 'darkrose', '1841712': 'theasker01', '1786278': 'polieste', '503836': 'spam102', '1248432': 'bonamana2811', '1315878': 'dinhphong2610', '1844540': 'Mob Psycho', '1653529': 'teeeeeeeee', '1438997': 'talatroi'}\n"
     ]
    }
   ],
   "source": [
    "dict_user = {}\n",
    "articles = soup.find_all(\n",
    "    \"article\", class_=\"message message--post js-post js-inlineModContainer\"\n",
    "                       \n",
    ")\n",
    "# Duyệt qua từng article và lấy thông tin\n",
    "for article in articles:\n",
    "    # Tìm thẻ con message-userDetails\n",
    "    user_details = article.find(\"div\", class_=\"message-userDetails\")\n",
    "\n",
    "    if user_details:\n",
    "        # Tìm thẻ con chứa message-name\n",
    "        message_name = user_details.find(\"a\", class_=\"username\")\n",
    "\n",
    "        if message_name:\n",
    "            # Lấy giá trị data-user-id và text\n",
    "            user_id = message_name.get(\"data-user-id\")  # Lấy thuộc tính data-user-id\n",
    "            user_name = message_name.text  # Lấy văn bản trong thẻ\n",
    "            dict_user[user_id] = user_name\n",
    "print(dict_user)"
   ]
  },
  {
   "cell_type": "code",
   "execution_count": 5,
   "metadata": {},
   "outputs": [],
   "source": [
    "\n",
    "import re\n",
    "text_csv =[]\n",
    "for article in articles:\n",
    "    # Tìm thẻ con message-userDetails\n",
    "    user_details_content = article.find('div', class_='message-userContent lbContainer js-lbContainer')\n",
    "    #print({\"a\":user_details.get(\"data-lb-caption-desc\"),\n",
    "    #       \"b\": user_details.get(\"data-lb-id\")})               \n",
    "    #block_quote = article.find('div', class_='message-userContent lbContainer js-lbContainer')\n",
    "    if user_details_content:\n",
    "        # Tìm thẻ con chứa message-name\n",
    "        message_id = re.findall(r'\\d+',user_details_content.get(\"data-lb-id\"))[0]\n",
    "        message_time = parser_time(user_details_content.get(\"data-lb-caption-desc\"))\n",
    "       \n",
    "        #print(message_name)\n",
    "    if user_details_content :\n",
    "        blockquote = user_details_content.find('article', class_='message-body js-selectToQuote')\n",
    "        \n",
    "        data = {}\n",
    "        blockquote1 = user_details_content.find_all('blockquote', class_='bbCodeBlock bbCodeBlock--expandable bbCodeBlock--quote js-expandWatch')\n",
    "        ad_list = []\n",
    "        for block in blockquote1: # one person can quote more block\n",
    "                  block_id = re.findall(r'\\d+',block.get(\"data-attributes\"))\n",
    "                  data_source = re.findall(r'\\d+',block.get(\"data-source\"))\n",
    "                  data_text = block.get_text()\n",
    "                  ad_list.append(data_source)\n",
    "                  ad_list.append({\"blockid\":block_id[0],\n",
    "                         \"data_source\":data_source[0],\n",
    "                         \"data_text\":data_text})\n",
    "    text_csv.append({\"message_id\": message_id,\n",
    "               \"message_time\" : message_time,\n",
    "               \"quote\" : ad_list,\n",
    "              \"text\":blockquote.getText(),\n",
    "              })\n",
    "                  \n",
    "       \n",
    "\n",
    "  "
   ]
  },
  {
   "cell_type": "code",
   "execution_count": 10,
   "metadata": {},
   "outputs": [
    {
     "data": {
      "text/plain": [
       "'talatroi · Jan 6, 2023 at 9:34 AM'"
      ]
     },
     "execution_count": 10,
     "metadata": {},
     "output_type": "execute_result"
    }
   ],
   "source": [
    "user_details_content.get(\"data-lb-caption-desc\")"
   ]
  },
  {
   "cell_type": "code",
   "execution_count": 13,
   "metadata": {},
   "outputs": [
    {
     "name": "stdout",
     "output_type": "stream",
     "text": [
      "2022-03-23 09:47:00\n"
     ]
    }
   ],
   "source": [
    "from dateutil import parser\n",
    "\n",
    "# Chuỗi ngày giờ cần phân tích\n",
    "date_string = \"Fire Of Heart · Mar 23, 2022 at 9:47 AM\"\n",
    "\n",
    "# Phân tích và chuyển đổi chuỗi ngày giờ\n",
    "# Lấy phần ngày giờ từ chuỗi, ví dụ sử dụng biểu thức chính quy để trích xuất phần ngày giờ\n",
    "import re\n",
    "\n",
    "# Biểu thức chính quy để tìm phần ngày giờ\n",
    "date_match = re.search(r'\\b\\w{3} \\d{2}, \\d{4} at \\d{1,2}:\\d{2} (AM|PM)\\b', date_string)\n",
    "if date_match:\n",
    "    date_str = date_match.group(0)\n",
    "    # Phân tích chuỗi ngày giờ thành đối tượng datetime\n",
    "    date = parser.parse(date_str)\n",
    "    print(date)\n",
    "else:\n",
    "    print(\"No date found in the string\")\n"
   ]
  },
  {
   "cell_type": "code",
   "execution_count": 16,
   "metadata": {},
   "outputs": [
    {
     "name": "stdout",
     "output_type": "stream",
     "text": [
      "2022-03-23 09:47:00\n",
      "2023-01-06 09:34:00\n"
     ]
    }
   ],
   "source": [
    "from dateutil import parser\n",
    "import re\n",
    "\n",
    "\n",
    "def parser_time(date_string):\n",
    "    # Phân tích và chuyển đổi chuỗi ngày giờ\n",
    "    # Lấy phần ngày giờ từ chuỗi, ví dụ sử dụng biểu thức chính quy để trích xuất phần ngày giờ\n",
    "    date_match = re.search(\n",
    "        r\"\\b\\w{3} \\d{1,2}, \\d{4} at \\d{1,2}:\\d{2} (AM|PM)\\b\", date_string\n",
    "    )\n",
    "\n",
    "    if date_match:\n",
    "        date_str = date_match.group(0)\n",
    "        # Phân tích chuỗi ngày giờ thành đối tượng datetime\n",
    "        date = parser.parse(date_str)\n",
    "        return date\n",
    "    else:\n",
    "        return \"No date found in the string\"\n",
    "\n",
    "# Test lại\n",
    "print(parser_time(\"Fire Of Heart · Mar 23, 2022 at 9:47 AM\"))\n",
    "print(parser_time(\"talatroi · Jan 6, 2023 at 9:34 AM\"))\n"
   ]
  },
  {
   "cell_type": "code",
   "execution_count": 6,
   "metadata": {},
   "outputs": [],
   "source": [
    "import requests\n",
    "\n",
    "session = requests.Session()\n",
    "url = 'https://voz.vn/t/co-ai-bi-sa-thai-dot-nay-ko-ver-2-viet-tat-ten-moi-cty.855701/page-185'\n",
    "headers = {\n",
    "    'User-Agent': 'Mozilla/5.0 (X11; Linux x86_64) AppleWebKit/537.36 (KHTML, like Gecko) Chrome/91.0.4472.114 Safari/537.36'\n",
    "}\n",
    "response = session.get(url, headers=headers)\n",
    "if response.status_code == 200:\n",
    "    soup = BeautifulSoup(response.content, 'html.parser')"
   ]
  },
  {
   "cell_type": "code",
   "execution_count": 7,
   "metadata": {},
   "outputs": [
    {
     "name": "stdout",
     "output_type": "stream",
     "text": [
      "Chuỗi text: co-ai-bi-sa-thai-dot-nay-ko-ver-2-viet-tat-ten-moi-cty.855701\n",
      "Số trang: 38\n"
     ]
    }
   ],
   "source": [
    "import re\n",
    "\n",
    "# Chuỗi đầu vào\n",
    "input_string = \"https---voz.vn-t-co-ai-bi-sa-thai-dot-nay-ko-ver-2-viet-tat-ten-moi-cty.855701-page-38-page=38\"\n",
    "\n",
    "# Biểu thức chính quy để trích xuất chuỗi text và số page\n",
    "pattern = r\"https---voz.vn-t-(.*?)-page-\\d+-page=(\\d+)\"\n",
    "\n",
    "# Áp dụng regex để tìm chuỗi text và số page\n",
    "match = re.search(pattern, input_string)\n",
    "\n",
    "if match:\n",
    "    chuoi_text = match.group(1)  # Chuỗi text\n",
    "    page_number = int(match.group(2))  # Số trang (chuyển thành số nguyên)\n",
    "    \n",
    "    print(\"Chuỗi text:\", chuoi_text)\n",
    "    print(\"Số trang:\", page_number)\n",
    "else:\n",
    "    print(\"Không tìm thấy chuỗi text hoặc số trang.\")\n"
   ]
  },
  {
   "cell_type": "code",
   "execution_count": 12,
   "metadata": {},
   "outputs": [
    {
     "name": "stdout",
     "output_type": "stream",
     "text": [
      "kiem-job-tai-faang-va-cac-big-tech-khac.594813\n",
      "1\n"
     ]
    }
   ],
   "source": [
    "import re\n",
    "pattern = r\"https---voz.vn-t-(.*?)--page=(\\d+)page-\\d+\"\n",
    "url_name = \"https---voz.vn-t-kiem-job-tai-faang-va-cac-big-tech-khac.594813--page=1page-1\"\n",
    "match = re.search(pattern, url_name)\n",
    "    \n",
    "if match:\n",
    "        nameContent = match.group(1)\n",
    "        print(nameContent)\n",
    "        numberPage =  match.group(2)\n",
    "        print(numberPage)"
   ]
  }
 ],
 "metadata": {
  "kernelspec": {
   "display_name": "Python 3",
   "language": "python",
   "name": "python3"
  },
  "language_info": {
   "codemirror_mode": {
    "name": "ipython",
    "version": 3
   },
   "file_extension": ".py",
   "mimetype": "text/x-python",
   "name": "python",
   "nbconvert_exporter": "python",
   "pygments_lexer": "ipython3",
   "version": "3.9.13"
  }
 },
 "nbformat": 4,
 "nbformat_minor": 2
}
