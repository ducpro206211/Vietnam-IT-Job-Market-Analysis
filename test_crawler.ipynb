{
 "cells": [
  {
   "cell_type": "code",
   "execution_count": 53,
   "metadata": {},
   "outputs": [
    {
     "name": "stdout",
     "output_type": "stream",
     "text": [
      "200\n"
     ]
    }
   ],
   "source": [
    "# take data \n",
    "from urllib.request import Request, urlopen\n",
    "from bs4 import BeautifulSoup\n",
    "\n",
    "url = 'https://voz.vn/t/event-box-cntt-2023-chia-se-kinh-nghiem-phong-van.694369/'\n",
    "headers = {\n",
    "    'User-Agent': 'Mozilla/5.0 (Windows NT 10.0; Win64; x64) AppleWebKit/537.36 (KHTML, like Gecko) Chrome/85.0.4183.83 Safari/537.36'\n",
    "}\n",
    "\n",
    "response = urlopen(Request(url=url, headers=headers))\n",
    "\n",
    "if response.getcode() == 200:\n",
    "    soup = BeautifulSoup(response, 'html.parser')\n",
    "    #DataUserId = \n",
    "    print(response.getcode())\n",
    "    #DataUserName = scrapy.Field()\n",
    "    #ReplyTime = scrapy.Field()\n",
    "    #ReplyText = scrapy.Field()\n",
    "    #QuoteBlockId = scrapy.Field()\n",
    "    #QuoteBlockText = scrapy.Field()\n",
    "    #print(soup.prettify())  # Hiển thị HTML đã lấy được\n",
    "else:\n",
    "    print(f\"Lỗi khi lấy trang: {response.getcode()}\")\n"
   ]
  },
  {
   "cell_type": "code",
   "execution_count": 2,
   "metadata": {},
   "outputs": [
    {
     "name": "stdout",
     "output_type": "stream",
     "text": [
      "{'873787': 'Fire Of Heart', '1653529': 'teeeeeeeee', '1719893': 'minhducitus', '1781147': 'midnight_sun', '1418575': 'luiz', '1797102': 'NatriClorid-0.9%', '1180502': 'J11_PRO', '1669459': 'JuniorDeveloper', '1631237': 'YG Ren', '1111831': 'coldkaldr', '1373107': 'gacononline1', '1673518': 'NextLesorNextVoz', '115818': 'tdat00'}\n"
     ]
    }
   ],
   "source": [
    "dict_user = {}\n",
    "articles = soup.find_all(\n",
    "    \"article\", class_=\"message message--post js-post js-inlineModContainer\"\n",
    "                       \n",
    ")\n",
    "# Duyệt qua từng article và lấy thông tin\n",
    "for article in articles:\n",
    "    # Tìm thẻ con message-userDetails\n",
    "    user_details = article.find(\"div\", class_=\"message-userDetails\")\n",
    "\n",
    "    if user_details:\n",
    "        # Tìm thẻ con chứa message-name\n",
    "        message_name = user_details.find(\"a\", class_=\"username\")\n",
    "\n",
    "        if message_name:\n",
    "            # Lấy giá trị data-user-id và text\n",
    "            user_id = message_name.get(\"data-user-id\")  # Lấy thuộc tính data-user-id\n",
    "            user_name = message_name.text  # Lấy văn bản trong thẻ\n",
    "            dict_user[user_id] = user_name\n",
    "print(dict_user)"
   ]
  },
  {
   "cell_type": "code",
   "execution_count": 49,
   "metadata": {},
   "outputs": [
    {
     "name": "stdout",
     "output_type": "stream",
     "text": [
      "{'message_id': '16589316', 'message_time': datetime.datetime(2022, 3, 23, 9, 47), 'quote': [], 'text': '\\n\\nThread cũ bị google quét. Xem lại nội dung cũ ở đây.\\nhttps://web.archive.org/web/2022032...-chia-se-ve-muc-luong-tai-cac-cong-ty.459731/\\n\\n\\nNội quy thread mới:\\n\\nChỉ comment nội dung như sau:\\n\\nTên công ty: (bắt buộc, review ko có tên cty thì nghỉ đi)\\nLương tháng/năm (gross):\\nVị trí:\\nThời điểm (năm nào):\\nBonus: (Tháng 13-14-15/ thưởng performance/thưởng lễ tết/stock...)\\nSố năm kinh nghiệm khi nhận offer:\\nNên ghi thêm các phúc lợi, mức đóng thuế, stock, bảo hiểm, số năm kinh nghiệm ....\\n\\n\\nCác nội dung comment không liên quan sẽ bị xoá và warn.\\n\\n\\xa0\\n'}\n",
      "{'message_id': '16589910', 'message_time': datetime.datetime(2022, 3, 23, 9, 47), 'quote': [], 'text': '\\n\\nThread cũ. https://voz.vn/t/thread-tong-hop-chia-se-ve-muc-luong-tai-cac-cong-ty.459731/ có 45 page. Cần khoảng 11 bạn, mỗi bạn nhận khoảng 4 page, bắt đầu từ page 2.\\nCông việc như sau:\\n\\nVào trang https://web.archive.org/save paste url của từng page vào để tạo snapshot.\\n\\nUpdate cách mới do cách cũ 1 số page ko save dc.\\n\\nBước 1: copy url của từng page như sau: https://voz.vn/t/thread-tong-hop-chia-se-ve-muc-luong-tai-cac-cong-ty.459731/page-5\\nVới page nào thì thay con số tương ứng phía sau là dc\\n\\nBước 2: Paste url vào trang https://web.archive.org/save\\n\\n\\n\\n\\n\\nBước 3: Chờ nó save lại là xong.\\n\\n\\n\\n\\n\\n\\nBạn nào nhận trang nào thì comment vào thread này nhé.\\nCần làm nhanh truớc khi xoá thread kia.\\nĐã có 1 bạn làm tới page 20. cần ng làm tiếp nhé.\\n\\nUpdate: Đã xong.\\n\\nXin cảm ơn các bạn: NextLesorNextVoz, QTQTQT đã hỗ trợ.\\n\\n\\xa0\\n'}\n",
      "{'message_id': '16590193', 'message_time': datetime.datetime(2022, 3, 23, 9, 47), 'quote': [['16590077'], {'blockid': '1475026', 'data_source': '16590077', 'data_text': '\\n\\nQTQTQT said:\\n\\n\\n\\n2,3,4,5 thím nhé. Mà sao thớt đó cũng bị quét à.\\nView attachment 1075782\\nKhông thấy cái nút như của thím.\\n\\nClick to expand...\\n\\n'}], 'text': '\\n\\n\\n\\nQTQTQT said:\\n\\n\\n\\n2,3,4,5 thím nhé. Mà sao thớt đó cũng bị quét à.\\nView attachment 1075782\\nKhông thấy cái nút như của thím.\\n\\nClick to expand...\\n\\n\\nđể mình xem thử\\n\\n\\xa0\\n'}\n",
      "{'message_id': '16590227', 'message_time': datetime.datetime(2022, 3, 23, 9, 47), 'quote': [], 'text': '\\n\\n\\nTên công ty: Gumi Vietnam\\nLương tháng/năm (gross): 15 gross\\nVị trí: Junior Frontend developer\\nThời điểm (năm nào): 2020\\nBonus: (Tháng 13-14-15/ thưởng performance/thưởng lễ tết/stock...): Tháng 13 hết )\\n\\n\\nTên công ty: Hextrust Vietnam\\nLương tháng/năm (gross): 25 gross\\nVị trí: Frontend developer\\nThời điểm (năm nào): 2021\\nBonus: (Tháng 13-14-15/ thưởng performance/thưởng lễ tết/stock...): Tháng 13 hết )\\n\\n\\n\\xa0\\n'}\n",
      "{'message_id': '16590237', 'message_time': datetime.datetime(2022, 3, 23, 9, 47), 'quote': [['16590077'], {'blockid': '1475026', 'data_source': '16590077', 'data_text': '\\n\\nQTQTQT said:\\n\\n\\n\\n2,3,4,5 thím nhé. Mà sao thớt đó cũng bị quét à.\\nView attachment 1075782\\nKhông thấy cái nút như của thím.\\n\\nClick to expand...\\n\\n'}], 'text': '\\n\\n\\n\\nQTQTQT said:\\n\\n\\n\\n2,3,4,5 thím nhé. Mà sao thớt đó cũng bị quét à.\\nView attachment 1075782\\nKhông thấy cái nút như của thím.\\n\\nClick to expand...\\n\\n\\n\\nThím dùng cách mới nhé. \\nvào trang này rồi save là dc https://web.archive.org/save\\n\\n\\xa0\\n'}\n",
      "{'message_id': '16591558', 'message_time': datetime.datetime(2022, 3, 23, 9, 47), 'quote': [], 'text': '\\n\\n\\nTên công ty: KMS technology\\nLương tháng/năm (gross): 600$ gross\\nVị trí: Junior SE\\nThời điểm (năm nào): 2021\\nBonus: (Tháng 13-14-15/ thưởng performance/thưởng lễ tết/stock...): Tháng 13\\n\\n\\nTên công ty: Nashtech\\nLương tháng/năm (gross): 17 gross\\nVị trí: Backend Dev\\nThời điểm (năm nào): 2022\\n\\n\\n\\xa0\\n'}\n",
      "{'message_id': '16591669', 'message_time': datetime.datetime(2022, 3, 23, 9, 47), 'quote': [['16591558'], {'blockid': '1719893', 'data_source': '16591558', 'data_text': '\\n\\nminhducitus said:\\n\\n\\n\\n\\nTên công ty: KMS technology\\nLương tháng/năm (gross): 600$ gross\\nVị trí: Junior SE\\nThời điểm (năm nào): 2021\\nBonus: (Tháng 13-14-15/ thưởng performance/thưởng lễ tết/stock...): Tháng 13\\n\\n\\nTên công ty: Nashtech\\nLương tháng/năm (gross): 17 gross\\nVị trí: Backend Dev\\nThời điểm (năm nào): 2022\\n\\n\\nClick to expand...\\n\\n'}], 'text': '\\n\\n\\n\\nminhducitus said:\\n\\n\\n\\n\\nTên công ty: KMS technology\\nLương tháng/năm (gross): 600$ gross\\nVị trí: Junior SE\\nThời điểm (năm nào): 2021\\nBonus: (Tháng 13-14-15/ thưởng performance/thưởng lễ tết/stock...): Tháng 13\\n\\n\\nTên công ty: Nashtech\\nLương tháng/năm (gross): 17 gross\\nVị trí: Backend Dev\\nThời điểm (năm nào): 2022\\n\\n\\nClick to expand...\\n\\nbackend là level nào v ạ\\n\\n\\xa0\\n'}\n",
      "{'message_id': '16591711', 'message_time': datetime.datetime(2022, 3, 23, 9, 47), 'quote': [['16591669'], {'blockid': '1781147', 'data_source': '16591669', 'data_text': '\\n\\nmidnight_sun said:\\n\\n\\n\\nbackend là level nào v ạ\\n\\nClick to expand...\\n\\n'}], 'text': '\\n\\n\\n\\nmidnight_sun said:\\n\\n\\n\\nbackend là level nào v ạ\\n\\nClick to expand...\\n\\nMình cũng không rõ, nó ghi mình title là dev 2.1, dev 3 là senior thì phải\\n\\n\\xa0\\n'}\n",
      "{'message_id': '16592836', 'message_time': datetime.datetime(2022, 3, 23, 9, 47), 'quote': [['16589316'], {'blockid': '873787', 'data_source': '16589316', 'data_text': '\\n\\nFire Of Heart said:\\n\\n\\n\\nThread cũ bị google quét. Xem lại nội dung cũ ở đây.\\nhttps://web.archive.org/web/2022032...-chia-se-ve-muc-luong-tai-cac-cong-ty.459731/\\n\\n\\nNội quy thread mới:\\n\\nChỉ comment nội dung như sau:\\n\\n\\nTên công ty:\\nLương tháng/năm (gross):\\nVị trí:\\nThời điểm (năm nào):\\nBonus: (Tháng 13-14-15/ thưởng performance/thưởng lễ tết/stock...)\\nNên ghi thêm các phúc lợi, mức đóng thuế, stock, bảo hiểm, v.v...\\n\\nClick to expand...\\n\\n'}], 'text': '\\n\\n\\n\\nFire Of Heart said:\\n\\n\\n\\nThread cũ bị google quét. Xem lại nội dung cũ ở đây.\\nhttps://web.archive.org/web/2022032...-chia-se-ve-muc-luong-tai-cac-cong-ty.459731/\\n\\n\\nNội quy thread mới:\\n\\nChỉ comment nội dung như sau:\\n\\n\\nTên công ty:\\nLương tháng/năm (gross):\\nVị trí:\\nThời điểm (năm nào):\\nBonus: (Tháng 13-14-15/ thưởng performance/thưởng lễ tết/stock...)\\nNên ghi thêm các phúc lợi, mức đóng thuế, stock, bảo hiểm, v.v...\\n\\nClick to expand...\\n\\nThím update thêm deal đó của các thím với số năm kinh nghiệm bao nhiêu nữa cho đánh giá khách quan thím à\\n\\n\\xa0\\n'}\n",
      "{'message_id': '16593104', 'message_time': datetime.datetime(2022, 3, 23, 9, 47), 'quote': [['16593072'], {'blockid': '1475026', 'data_source': '16593072', 'data_text': '\\n\\nQTQTQT said:\\n\\n\\n\\nĐến trang 20 rồi nhé. Mời các bác khác tiếp tục.\\n\\nClick to expand...\\n\\n'}], 'text': '\\n\\n\\n\\nQTQTQT said:\\n\\n\\n\\nĐến trang 20 rồi nhé. Mời các bác khác tiếp tục.\\n\\nClick to expand...\\n\\n\\nCảm ơn thím nhé\\n\\n\\xa0\\n'}\n",
      "{'message_id': '16593747', 'message_time': datetime.datetime(2022, 3, 23, 9, 47), 'quote': [], 'text': '\\n\\nÍt bác show lương embedded quá, chắc thấp quá so với anh em mảng khác nên ko show\\n\\nTên công ty: Robert Bosch Engineering and Business Solution VN (RBVH)\\nLương tháng/năm (gross): 13.5 net\\nVị trí: Embedded software engineer (L50) (3 năm kn - chuyển ngành)\\nThời điểm (năm nào): 2021\\nBonus: (Tháng 13-14-15/ thưởng performance/thưởng lễ tết/stock...): Tháng 13, bonus cuối tháng 4 x1.5 lương.\\n\\n\\nTên công ty: Hitachi Vantara VN\\nLương tháng/năm (gross): 19 net\\nVị trí: Consultant 2\\nThời điểm (năm nào): 2022\\nBonus: (Tháng 13-14-15/ thưởng performance/thưởng lễ tết/stock...): Tháng 13, bonus 0.8 tháng lương chia ra 2 lần)\\n\\n\\n\\xa0\\n'}\n",
      "{'message_id': '16593805', 'message_time': datetime.datetime(2022, 3, 23, 9, 47), 'quote': [], 'text': '\\n\\nGhi thêm cả số năm kn thì tốt\\n\\n\\xa0\\n'}\n",
      "{'message_id': '16594021', 'message_time': datetime.datetime(2022, 3, 23, 9, 47), 'quote': [], 'text': '\\n\\nNên thêm thông tin sơ qua về số năm KN của bản thân đi mọi người.\\nMắc công thắc mắc lại có người hỏi thôi.\\nCùng một vị trí tại một cty cũng có mức lương khác nhau rồi.\\n\\n\\xa0\\n'}\n",
      "{'message_id': '16594728', 'message_time': datetime.datetime(2022, 3, 23, 9, 47), 'quote': [], 'text': '\\n\\n\\nTên công ty: Product ở TPHCM ( Không chia sẽ được vì nằm vùng ở đây nhiều) \\n\\n\\nLương tháng/năm (gross): 1250$ gross\\nVị trí: Front End Dev\\nThời điểm (năm nào): 2020\\nBonus: 1 Tháng 13.\\n3 Năm EXP.\\n\\n\\n\\xa0\\n'}\n",
      "{'message_id': '16595489', 'message_time': datetime.datetime(2022, 3, 23, 9, 47), 'quote': [['16594728'], {'blockid': '1631237', 'data_source': '16594728', 'data_text': '\\n\\nYG Ren said:\\n\\n\\n\\n\\nTên công ty: Product ở TPHCM ( Không chia sẽ được vì nằm vùng ở đây nhiều) \\n\\n\\nLương tháng/năm (gross): 1250$ gross\\nVị trí: Front End Dev\\nThời điểm (năm nào): 2020\\nBonus: 1 Tháng 13.\\n3 Năm EXP.\\n\\n\\nClick to expand...\\n\\n'}], 'text': '\\n\\n\\n\\nYG Ren said:\\n\\n\\n\\n\\nTên công ty: Product ở TPHCM ( Không chia sẽ được vì nằm vùng ở đây nhiều) \\n\\n\\nLương tháng/năm (gross): 1250$ gross\\nVị trí: Front End Dev\\nThời điểm (năm nào): 2020\\nBonus: 1 Tháng 13.\\n3 Năm EXP.\\n\\n\\nClick to expand...\\n\\nCái quan trọng nhất là tên cty ấy, nếu ko có thì khác gì thớt khoe lương đâu...\\nnếu sợ lộ fen có thể ghi +/- sai số lương, số năm kn thì nằm vùng bằng mắt\\nví dụ lương 1250 thì ghi lên 1100/1300 cũng ko ảnh hưởng mấy\\nà trừ khi cty bé quá 2-3 mống thì thôi \\n\\n\\xa0\\n'}\n",
      "{'message_id': '16605280', 'message_time': datetime.datetime(2022, 3, 23, 9, 47), 'quote': [], 'text': '\\n\\n\\nTên công ty: HSX\\nLương tháng/năm (gross): 45tr\\nVị trí: Software Dev Java (3 năm kn)\\nThời điểm (năm nào): 2021\\nBonus: (Tháng 13-14-15/ thưởng performance/thưởng lễ tết/stock...): Tháng 13, profit share 32tr\\n\\n\\nTên công ty: FT\\nLương tháng/năm (gross): 30tr\\nVị trí: Cán bộ lập trình \\nThời điểm (năm nào): 2022\\nBonus: (Tháng 13-14-15/ thưởng performance/thưởng lễ tết/stock...): Tháng 13\\n\\n\\n\\xa0\\n'}\n",
      "{'message_id': '16605458', 'message_time': datetime.datetime(2022, 3, 23, 9, 47), 'quote': [['16589910'], {'blockid': '873787', 'data_source': '16589910', 'data_text': '\\n\\nFire Of Heart said:\\n\\n\\n\\nThread cũ. https://voz.vn/t/thread-tong-hop-chia-se-ve-muc-luong-tai-cac-cong-ty.459731/ có 45 page. Cần khoảng 11 bạn, mỗi bạn nhận khoảng 4 page, bắt đầu từ page 2.\\nCông việc như sau:\\n\\nVào trang https://web.archive.org/save paste url của từng page vào để tạo snapshot.\\n\\nUpdate cách mới do cách cũ 1 số page ko save dc.\\n\\nBước 1: copy url của từng page như sau: https://voz.vn/t/thread-tong-hop-chia-se-ve-muc-luong-tai-cac-cong-ty.459731/page-5\\nVới page nào thì thay con số tương ứng phía sau là dc\\n\\nBước 2: Paste url vào trang https://web.archive.org/save\\nView attachment 1075803\\n\\nBước 3: Chờ nó save lại là xong.\\n\\nView attachment 1075802\\n\\n\\nBạn nào nhận trang nào thì comment vào thread này nhé.\\nCần làm nhanh truớc khi xoá thread kia.\\nĐã có 1 bạn làm tới page 20. cần ng làm tiếp nhé.\\n\\nClick to expand...\\n\\n'}], 'text': '\\n\\n\\n\\nFire Of Heart said:\\n\\n\\n\\nThread cũ. https://voz.vn/t/thread-tong-hop-chia-se-ve-muc-luong-tai-cac-cong-ty.459731/ có 45 page. Cần khoảng 11 bạn, mỗi bạn nhận khoảng 4 page, bắt đầu từ page 2.\\nCông việc như sau:\\n\\nVào trang https://web.archive.org/save paste url của từng page vào để tạo snapshot.\\n\\nUpdate cách mới do cách cũ 1 số page ko save dc.\\n\\nBước 1: copy url của từng page như sau: https://voz.vn/t/thread-tong-hop-chia-se-ve-muc-luong-tai-cac-cong-ty.459731/page-5\\nVới page nào thì thay con số tương ứng phía sau là dc\\n\\nBước 2: Paste url vào trang https://web.archive.org/save\\nView attachment 1075803\\n\\nBước 3: Chờ nó save lại là xong.\\n\\nView attachment 1075802\\n\\n\\nBạn nào nhận trang nào thì comment vào thread này nhé.\\nCần làm nhanh truớc khi xoá thread kia.\\nĐã có 1 bạn làm tới page 20. cần ng làm tiếp nhé.\\n\\nClick to expand...\\n\\nphụ tay to từ trang 21 -> trang 25 nha. Giờ bắt đầu làm\\n\\n\\xa0\\n'}\n",
      "{'message_id': '16605494', 'message_time': datetime.datetime(2022, 3, 23, 9, 47), 'quote': [['16605458'], {'blockid': '1673518', 'data_source': '16605458', 'data_text': '\\n\\nNextLesorNextVoz said:\\n\\n\\n\\nphụ tay to từ trang 21 -> trang 25 nha. Giờ bắt đầu làm\\n\\nClick to expand...\\n\\n'}], 'text': '\\n\\n\\n\\nNextLesorNextVoz said:\\n\\n\\n\\nphụ tay to từ trang 21 -> trang 25 nha. Giờ bắt đầu làm\\n\\nClick to expand...\\n\\n\\nMany thanks \\n\\n\\xa0\\n'}\n",
      "{'message_id': '16605708', 'message_time': datetime.datetime(2022, 3, 23, 9, 47), 'quote': [['16605494'], {'blockid': '873787', 'data_source': '16605494', 'data_text': '\\n\\nFire Of Heart said:\\n\\n\\n\\nMany thanks \\n\\nClick to expand...\\n\\n'}], 'text': '\\n\\n\\n\\nFire Of Heart said:\\n\\n\\n\\nMany thanks \\n\\nClick to expand...\\n\\nđang rãnh để làm nốt 20 pages còn lại luôn cho mod ơi\\n\\n\\xa0\\n'}\n",
      "{'message_id': '16605740', 'message_time': datetime.datetime(2022, 3, 23, 9, 47), 'quote': [], 'text': '\\n\\nHỏi ngu tí, google quét là sao vậy cán bộ? Và nó có hệ quả gì? Qua thớt mới này làm sao để mình tránh lặp lại?\\n\\nSent from Samsung SM-A528B using vozFApp\\n\\n\\xa0\\n'}\n"
     ]
    }
   ],
   "source": [
    "\n",
    "import re\n",
    "for article in articles:\n",
    "    # Tìm thẻ con message-userDetails\n",
    "    user_details_content = article.find('div', class_='message-userContent lbContainer js-lbContainer')\n",
    "    #print({\"a\":user_details.get(\"data-lb-caption-desc\"),\n",
    "    #       \"b\": user_details.get(\"data-lb-id\")})               \n",
    "    #block_quote = article.find('div', class_='message-userContent lbContainer js-lbContainer')\n",
    "    if user_details_content:\n",
    "        # Tìm thẻ con chứa message-name\n",
    "        message_id = re.findall(r'\\d+',user_details_content.get(\"data-lb-id\"))[0]\n",
    "        message_time = parser_time(user_details_content.get(\"data-lb-caption-desc\"))\n",
    "       \n",
    "        #print(message_name)\n",
    "    if user_details_content :\n",
    "        blockquote = user_details_content.find('article', class_='message-body js-selectToQuote')\n",
    "        \n",
    "        data = {}\n",
    "        blockquote1 = user_details_content.find_all('blockquote', class_='bbCodeBlock bbCodeBlock--expandable bbCodeBlock--quote js-expandWatch')\n",
    "        ad_list = []\n",
    "        for block in blockquote1: # one person can quote more block\n",
    "                  block_id = re.findall(r'\\d+',block.get(\"data-attributes\"))\n",
    "                  data_source = re.findall(r'\\d+',block.get(\"data-source\"))\n",
    "                  data_text = block.get_text()\n",
    "                  ad_list.append(data_source)\n",
    "                  ad_list.append({\"blockid\":block_id[0],\n",
    "                         \"data_source\":data_source[0],\n",
    "                         \"data_text\":data_text})\n",
    "        print({\"message_id\": message_id,\n",
    "               \"message_time\" : message_time,\n",
    "               \"quote\" : ad_list,\n",
    "              \"text\":blockquote.getText(),\n",
    "              })\n",
    "                  \n",
    "       \n",
    "\n",
    "  "
   ]
  },
  {
   "cell_type": "code",
   "execution_count": 41,
   "metadata": {},
   "outputs": [
    {
     "name": "stdout",
     "output_type": "stream",
     "text": [
      "2022-03-23 09:47:00\n"
     ]
    }
   ],
   "source": [
    "from dateutil import parser\n",
    "\n",
    "# Chuỗi ngày giờ cần phân tích\n",
    "date_string = \"Fire Of Heart · Mar 23, 2022 at 9:47 AM\"\n",
    "\n",
    "# Phân tích và chuyển đổi chuỗi ngày giờ\n",
    "# Lấy phần ngày giờ từ chuỗi, ví dụ sử dụng biểu thức chính quy để trích xuất phần ngày giờ\n",
    "import re\n",
    "\n",
    "# Biểu thức chính quy để tìm phần ngày giờ\n",
    "date_match = re.search(r'\\b\\w{3} \\d{2}, \\d{4} at \\d{1,2}:\\d{2} (AM|PM)\\b', date_string)\n",
    "if date_match:\n",
    "    date_str = date_match.group(0)\n",
    "    # Phân tích chuỗi ngày giờ thành đối tượng datetime\n",
    "    date = parser.parse(date_str)\n",
    "    print(date)\n",
    "else:\n",
    "    print(\"No date found in the string\")\n"
   ]
  },
  {
   "cell_type": "code",
   "execution_count": 43,
   "metadata": {},
   "outputs": [
    {
     "data": {
      "text/plain": [
       "datetime.datetime(2022, 3, 23, 9, 47)"
      ]
     },
     "execution_count": 43,
     "metadata": {},
     "output_type": "execute_result"
    }
   ],
   "source": [
    "def parser_time(string):\n",
    "    # Phân tích và chuyển đổi chuỗi ngày giờ\n",
    "    # Lấy phần ngày giờ từ chuỗi, ví dụ sử dụng biểu thức chính quy để trích xuất phần ngày giờ\n",
    "    date_match = re.search(\n",
    "        r\"\\b\\w{3} \\d{2}, \\d{4} at \\d{1,2}:\\d{2} (AM|PM)\\b\", date_string\n",
    "    )\n",
    "\n",
    "    if date_match:\n",
    "        date_str = date_match.group(0)\n",
    "        # Phân tích chuỗi ngày giờ thành đối tượng datetime\n",
    "        date = parser.parse(date_str)\n",
    "        return date\n",
    "    else:\n",
    "        return \"No date found in the string\"\n",
    "parser_time(\"Fire Of Heart · Mar 23, 2022 at 9:47 AM\")"
   ]
  },
  {
   "cell_type": "code",
   "execution_count": 51,
   "metadata": {},
   "outputs": [
    {
     "name": "stdout",
     "output_type": "stream",
     "text": [
      "403\n"
     ]
    }
   ],
   "source": [
    "import requests\n",
    "\n",
    "session = requests.Session()\n",
    "url = 'https://voz.vn/t/event-box-cntt-2023-chia-se-kinh-nghiem-phong-van.694369/'\n",
    "headers = {\n",
    "    'User-Agent': 'Mozilla/5.0 (X11; Linux x86_64) AppleWebKit/537.36 (KHTML, like Gecko) Chrome/91.0.4472.114 Safari/537.36'\n",
    "}\n",
    "response = session.get(url, headers=headers)\n",
    "print(response.status_code)"
   ]
  }
 ],
 "metadata": {
  "kernelspec": {
   "display_name": "Python 3",
   "language": "python",
   "name": "python3"
  },
  "language_info": {
   "codemirror_mode": {
    "name": "ipython",
    "version": 3
   },
   "file_extension": ".py",
   "mimetype": "text/x-python",
   "name": "python",
   "nbconvert_exporter": "python",
   "pygments_lexer": "ipython3",
   "version": "3.9.13"
  }
 },
 "nbformat": 4,
 "nbformat_minor": 2
}
